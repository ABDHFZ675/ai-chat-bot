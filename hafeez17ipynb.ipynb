{
  "nbformat": 4,
  "nbformat_minor": 0,
  "metadata": {
    "colab": {
      "provenance": []
    },
    "kernelspec": {
      "name": "python3",
      "display_name": "Python 3"
    },
    "language_info": {
      "name": "python"
    }
  },
  "cells": [
    {
      "cell_type": "code",
      "source": [
        "from transformers import pipeline\n",
        "import random"
      ],
      "metadata": {
        "id": "RjO5RsZPXsov"
      },
      "execution_count": null,
      "outputs": []
    },
    {
      "cell_type": "markdown",
      "source": [
        "Create a rule-based response dictionary"
      ],
      "metadata": {
        "id": "3gVW4nOnX1ux"
      }
    },
    {
      "cell_type": "code",
      "source": [
        "rule_based_responses = {\n",
        "    \"hello\": \"Hi there! How can I help you today?\",\n",
        "    \"hi\": \"Hello! What can I do for you?\",\n",
        "    \"how are you\": \"I'm just a bunch of Python code, but I'm doing great!\",\n",
        "    \"what is your name\": \"I'm your friendly AI chatbot!\",\n",
        "    \"bye\": \"Goodbye! Have a nice day!\",\n",
        "    \"thank you\": \"You're welcome!\"\n",
        "}\n",
        "\n"
      ],
      "metadata": {
        "id": "Ow5qNJDuX24Z"
      },
      "execution_count": null,
      "outputs": []
    },
    {
      "cell_type": "markdown",
      "source": [
        "Initialize AI text generation model"
      ],
      "metadata": {
        "id": "92Jb2CyBYD1V"
      }
    },
    {
      "cell_type": "code",
      "source": [
        "from transformers import pipeline\n",
        "chatbot = pipeline(\"text-generation\", model=\"gpt2\")\n",
        "\n",
        "\n",
        "\n"
      ],
      "metadata": {
        "id": "xgSTkcKOYFI3"
      },
      "execution_count": null,
      "outputs": []
    },
    {
      "cell_type": "markdown",
      "source": [
        "Function to get chatbot response\n"
      ],
      "metadata": {
        "id": "Vh4ZKNv6Z7ZD"
      }
    },
    {
      "cell_type": "code",
      "source": [
        "def get_response(user_input):\n",
        "    # Convert input to lowercase for matching\n",
        "    user_input_lower = user_input.lower()\n",
        "\n",
        "    # Check for rule-based response\n",
        "    for key in rule_based_responses:\n",
        "        if key in user_input_lower:\n",
        "            return rule_based_responses[key]\n",
        "\n",
        "    # If no rule match, use GPT-2 to generate a response\n",
        "    response = chatbot(user_input, max_length=50, num_return_sequences=1)\n",
        "    return response[0]['generated_text']\n",
        "\n",
        "# 🚀 Start chatbot loop\n",
        "print(\"🤖 Welcome to the AI Chatbot!\")\n",
        "print(\"Type 'exit' to end the chat.\\n\")\n",
        "\n",
        "while True:\n",
        "    user_input = input(\"You: \")\n",
        "    if user_input.lower() == \"exit\":\n",
        "        print(\"Bot: Chat ended. Goodbye! 👋\")\n",
        "        break\n",
        "    bot_reply = get_response(user_input)\n",
        "    print(\"Bot:\", bot_reply)\n"
      ],
      "metadata": {
        "colab": {
          "base_uri": "https://localhost:8080/"
        },
        "id": "vRnLyUvDZ88F",
        "outputId": "21b3fc81-0b67-4c26-d764-7500b6c46c27"
      },
      "execution_count": null,
      "outputs": [
        {
          "name": "stdout",
          "output_type": "stream",
          "text": [
            "🤖 Welcome to the AI Chatbot!\n",
            "Type 'exit' to end the chat.\n",
            "\n",
            "You: hi\n",
            "Bot: Hello! What can I do for you?\n",
            "You: what are you doing\n"
          ]
        },
        {
          "output_type": "stream",
          "name": "stderr",
          "text": [
            "Truncation was not explicitly activated but `max_length` is provided a specific value, please use `truncation=True` to explicitly truncate examples to max length. Defaulting to 'longest_first' truncation strategy. If you encode pairs of sequences (GLUE-style) with the tokenizer you can select this strategy more precisely by providing a specific strategy to `truncation`.\n",
            "Setting `pad_token_id` to `eos_token_id`:50256 for open-end generation.\n",
            "Both `max_new_tokens` (=256) and `max_length`(=50) seem to have been set. `max_new_tokens` will take precedence. Please refer to the documentation for more information. (https://huggingface.co/docs/transformers/main/en/main_classes/text_generation)\n"
          ]
        },
        {
          "output_type": "stream",
          "name": "stdout",
          "text": [
            "Bot: what are you doing? Why are you doing this?\"\n",
            "\n",
            "\"I'm telling you this because I'm an expert on this stuff.\"\n",
            "\n",
            "\"Well, I will tell you one more thing. I'm a professional. I'm teaching you what it means to be an expert. If I don't teach you something, you won't know it.\"\n",
            "\n",
            "\"My name is Filippo.\"\n",
            "\n",
            "\"What? Who is that?\"\n",
            "\n",
            "\"What is it?!\"\n",
            "\n",
            "\"It's not like I'm telling you to do this. I'm telling you that I'm an expert in this stuff. It's a very important thing. What do you think? I don't know what you're talking about. It's all about what I know.\"\n",
            "\n",
            "\"Do you want to give me a new name?\"\n",
            "\n",
            "\"Yes. It's all about the fact that I am an expert on this stuff. I'm going to teach you the basics of what it means to be an expert. You may not know it. I will teach you what it means to be an expert.\"\n",
            "\n",
            "\"What if you don't know it?\"\n",
            "\n",
            "\"We are going to do this. I am going to teach you everything you need to know about this stuff.\n",
            "You: hello\n",
            "Bot: Hi there! How can I help you today?\n",
            "You: hi\n",
            "Bot: Hello! What can I do for you?\n",
            "You: what is your name\n",
            "Bot: I'm your friendly AI chatbot!\n",
            "You: bye\n",
            "Bot: Goodbye! Have a nice day!\n"
          ]
        }
      ]
    }
  ]
}